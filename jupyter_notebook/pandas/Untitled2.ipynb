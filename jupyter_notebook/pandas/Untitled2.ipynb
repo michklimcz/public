{
 "cells": [
  {
   "cell_type": "code",
   "execution_count": 1,
   "id": "3e74e6b6",
   "metadata": {},
   "outputs": [],
   "source": [
    "import pandas as pd"
   ]
  },
  {
   "cell_type": "code",
   "execution_count": 35,
   "id": "24a43912",
   "metadata": {},
   "outputs": [],
   "source": [
    "df = pd.read_excel(r'C:\\Users\\Misiek\\Desktop\\Rekrutacja - Specjalista ds. analiz i komunikacji CRM- zadania.xlsm',sheet_name='Zadanie 4')"
   ]
  },
  {
   "cell_type": "code",
   "execution_count": 38,
   "id": "e0589d25",
   "metadata": {},
   "outputs": [],
   "source": [
    "df = df[['Kampania','miesiąc','liczba sprzedanych produktów']]"
   ]
  },
  {
   "cell_type": "code",
   "execution_count": 41,
   "id": "3a2e2e36",
   "metadata": {},
   "outputs": [
    {
     "data": {
      "text/plain": [
       "liczba sprzedanych produktów    15.0\n",
       "dtype: float64"
      ]
     },
     "execution_count": 41,
     "metadata": {},
     "output_type": "execute_result"
    }
   ],
   "source": [
    "df.groupby(by=['Kampania','miesiąc']).max().min()"
   ]
  },
  {
   "cell_type": "code",
   "execution_count": 43,
   "id": "adaf860e",
   "metadata": {},
   "outputs": [],
   "source": [
    "df=pd.DataFrame(df)"
   ]
  },
  {
   "cell_type": "code",
   "execution_count": 48,
   "id": "4a6c7481",
   "metadata": {},
   "outputs": [
    {
     "data": {
      "text/html": [
       "<div>\n",
       "<style scoped>\n",
       "    .dataframe tbody tr th:only-of-type {\n",
       "        vertical-align: middle;\n",
       "    }\n",
       "\n",
       "    .dataframe tbody tr th {\n",
       "        vertical-align: top;\n",
       "    }\n",
       "\n",
       "    .dataframe thead th {\n",
       "        text-align: right;\n",
       "    }\n",
       "</style>\n",
       "<table border=\"1\" class=\"dataframe\">\n",
       "  <thead>\n",
       "    <tr style=\"text-align: right;\">\n",
       "      <th></th>\n",
       "      <th>miesiąc</th>\n",
       "      <th>liczba sprzedanych produktów</th>\n",
       "    </tr>\n",
       "    <tr>\n",
       "      <th>Kampania</th>\n",
       "      <th></th>\n",
       "      <th></th>\n",
       "    </tr>\n",
       "  </thead>\n",
       "  <tbody>\n",
       "    <tr>\n",
       "      <th>Kampania_A</th>\n",
       "      <td>2021-06</td>\n",
       "      <td>70.0</td>\n",
       "    </tr>\n",
       "    <tr>\n",
       "      <th>Kampania_B</th>\n",
       "      <td>2021-06</td>\n",
       "      <td>1243.0</td>\n",
       "    </tr>\n",
       "    <tr>\n",
       "      <th>Kampania_C</th>\n",
       "      <td>2021-06</td>\n",
       "      <td>168.0</td>\n",
       "    </tr>\n",
       "    <tr>\n",
       "      <th>Kampania_D</th>\n",
       "      <td>2021-06</td>\n",
       "      <td>1789.0</td>\n",
       "    </tr>\n",
       "    <tr>\n",
       "      <th>Kampania_E</th>\n",
       "      <td>2021-06</td>\n",
       "      <td>789.0</td>\n",
       "    </tr>\n",
       "    <tr>\n",
       "      <th>Kampania_F</th>\n",
       "      <td>2021-06</td>\n",
       "      <td>567.0</td>\n",
       "    </tr>\n",
       "    <tr>\n",
       "      <th>Kampania_G</th>\n",
       "      <td>2021-06</td>\n",
       "      <td>167.0</td>\n",
       "    </tr>\n",
       "    <tr>\n",
       "      <th>Kampania_H</th>\n",
       "      <td>2021-06</td>\n",
       "      <td>48.0</td>\n",
       "    </tr>\n",
       "    <tr>\n",
       "      <th>Kampania_I</th>\n",
       "      <td>2021-06</td>\n",
       "      <td>33.0</td>\n",
       "    </tr>\n",
       "  </tbody>\n",
       "</table>\n",
       "</div>"
      ],
      "text/plain": [
       "            miesiąc  liczba sprzedanych produktów\n",
       "Kampania                                         \n",
       "Kampania_A  2021-06                          70.0\n",
       "Kampania_B  2021-06                        1243.0\n",
       "Kampania_C  2021-06                         168.0\n",
       "Kampania_D  2021-06                        1789.0\n",
       "Kampania_E  2021-06                         789.0\n",
       "Kampania_F  2021-06                         567.0\n",
       "Kampania_G  2021-06                         167.0\n",
       "Kampania_H  2021-06                          48.0\n",
       "Kampania_I  2021-06                          33.0"
      ]
     },
     "execution_count": 48,
     "metadata": {},
     "output_type": "execute_result"
    }
   ],
   "source": [
    "df.groupby('Kampania').max()"
   ]
  },
  {
   "cell_type": "code",
   "execution_count": null,
   "id": "5a701d02",
   "metadata": {},
   "outputs": [],
   "source": []
  }
 ],
 "metadata": {
  "kernelspec": {
   "display_name": "Python 3",
   "language": "python",
   "name": "python3"
  },
  "language_info": {
   "codemirror_mode": {
    "name": "ipython",
    "version": 3
   },
   "file_extension": ".py",
   "mimetype": "text/x-python",
   "name": "python",
   "nbconvert_exporter": "python",
   "pygments_lexer": "ipython3",
   "version": "3.8.8"
  }
 },
 "nbformat": 4,
 "nbformat_minor": 5
}
