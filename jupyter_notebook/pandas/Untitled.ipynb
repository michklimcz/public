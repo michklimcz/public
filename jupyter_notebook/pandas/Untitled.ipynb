{
 "cells": [
  {
   "cell_type": "code",
   "execution_count": 25,
   "id": "50e3f648",
   "metadata": {},
   "outputs": [
    {
     "name": "stdout",
     "output_type": "stream",
     "text": [
      "python was founded in 1991\n",
      "the list is [1, 2, 3, 4, 5, 6, 7]\n",
      "the dictionary is {1: 'edureka', 2: 'python'}\n",
      "the tuple is (1, 2, 3, 4, 5)\n",
      "the set is  {1, 2, 3, 4, 5}\n"
     ]
    }
   ],
   "source": [
    "#variable declaration\n",
    "name = \"Edureka\"\n",
    "f = 1991\n",
    "print(\"python was founded in {}\".format(f))\n",
    "#data types\n",
    "a = [1,2,3,4,5,6,7]\n",
    "b = {1 : 'edureka' , 2: 'python'}\n",
    "c = (1,2,3,4,5)\n",
    "d = {1,2,3,4,5}\n",
    "print(\"the list is\" , a)\n",
    "print(\"the dictionary is\" , b)\n",
    "print(\"the tuple is\" , c)\n",
    "print(\"the set is \" , d)"
   ]
  },
  {
   "cell_type": "code",
   "execution_count": 27,
   "id": "25884029",
   "metadata": {},
   "outputs": [
    {
     "name": "stdout",
     "output_type": "stream",
     "text": [
      "25\n",
      "-5\n",
      "150\n",
      "20\n"
     ]
    },
    {
     "data": {
      "text/plain": [
       "True"
      ]
     },
     "execution_count": 27,
     "metadata": {},
     "output_type": "execute_result"
    }
   ],
   "source": [
    "a = 10\n",
    "b = 15\n",
    "#arithmetic operator\n",
    "print(a + b)\n",
    "print(a - b)\n",
    "print(a * b)\n",
    "#assignment operator\n",
    "a += 10\n",
    "print(a)\n",
    "#comparison operator\n",
    "#a != 10\n",
    "#b == a\n",
    "#logical operator\n",
    "a > b and a > 10\n",
    "#this will return true if both the statements are true. "
   ]
  },
  {
   "cell_type": "code",
   "execution_count": 28,
   "id": "a4b9ee71",
   "metadata": {},
   "outputs": [
    {
     "name": "stdout",
     "output_type": "stream",
     "text": [
      "e\n",
      "d\n",
      "u\n",
      "r\n",
      "e\n",
      "k\n"
     ]
    }
   ],
   "source": [
    "name = 'edureka'\n",
    "for i in name:\n",
    "     if i == 'a':\n",
    "         break\n",
    "     else:\n",
    "         print(i)"
   ]
  },
  {
   "cell_type": "code",
   "execution_count": 29,
   "id": "3ed30405",
   "metadata": {},
   "outputs": [
    {
     "name": "stdout",
     "output_type": "stream",
     "text": [
      "10000000000\n"
     ]
    }
   ],
   "source": [
    "def func(a):\n",
    "      return a ** a\n",
    "res = func(10)\n",
    "print(res)"
   ]
  },
  {
   "cell_type": "code",
   "execution_count": 33,
   "id": "27970fd4",
   "metadata": {},
   "outputs": [
    {
     "ename": "SyntaxError",
     "evalue": "invalid syntax (<ipython-input-33-756a430734c0>, line 9)",
     "output_type": "error",
     "traceback": [
      "\u001b[1;36m  File \u001b[1;32m\"<ipython-input-33-756a430734c0>\"\u001b[1;36m, line \u001b[1;32m9\u001b[0m\n\u001b[1;33m    ob = new Child()\u001b[0m\n\u001b[1;37m             ^\u001b[0m\n\u001b[1;31mSyntaxError\u001b[0m\u001b[1;31m:\u001b[0m invalid syntax\n"
     ]
    }
   ],
   "source": [
    "class Parent:\n",
    "      def func(self):\n",
    "            print('this is parent')\n",
    " \n",
    "class Child(Parent):\n",
    "      def func1(self):\n",
    "           print('this is child')\n",
    " \n",
    "ob = new Child()\n",
    "ob.func()"
   ]
  },
  {
   "cell_type": "code",
   "execution_count": 34,
   "id": "5bb75b41",
   "metadata": {},
   "outputs": [
    {
     "name": "stdout",
     "output_type": "stream",
     "text": [
      "   #                       Name Type 1  Type 2  HP  Attack  Defense  Sp. Atk  \\\n",
      "0  1                  Bulbasaur  Grass  Poison  45      49       49       65   \n",
      "1  2                    Ivysaur  Grass  Poison  60      62       63       80   \n",
      "2  3                   Venusaur  Grass  Poison  80      82       83      100   \n",
      "3  3      VenusaurMega Venusaur  Grass  Poison  80     100      123      122   \n",
      "4  4                 Charmander   Fire     NaN  39      52       43       60   \n",
      "5  5                 Charmeleon   Fire     NaN  58      64       58       80   \n",
      "6  6                  Charizard   Fire  Flying  78      84       78      109   \n",
      "7  6  CharizardMega Charizard X   Fire  Dragon  78     130      111      130   \n",
      "8  6  CharizardMega Charizard Y   Fire  Flying  78     104       78      159   \n",
      "9  7                   Squirtle  Water     NaN  44      48       65       50   \n",
      "\n",
      "   Sp. Def  Speed  Generation  Legendary  \n",
      "0       65     45           1      False  \n",
      "1       80     60           1      False  \n",
      "2      100     80           1      False  \n",
      "3      120     80           1      False  \n",
      "4       50     65           1      False  \n",
      "5       65     80           1      False  \n",
      "6       85    100           1      False  \n",
      "7       85    100           1      False  \n",
      "8      115    100           1      False  \n",
      "9       64     43           1      False  \n"
     ]
    }
   ],
   "source": [
    "import pandas as pd\n",
    "import numpy as np\n",
    "import matplotlib.pyplot as plt\n",
    "import seaborn as sns\n",
    " \n",
    "df  = pd.read_csv('pokemony.csv')\n",
    "print(df.head(10))"
   ]
  },
  {
   "cell_type": "code",
   "execution_count": null,
   "id": "c56a982b",
   "metadata": {},
   "outputs": [],
   "source": []
  }
 ],
 "metadata": {
  "kernelspec": {
   "display_name": "Python 3",
   "language": "python",
   "name": "python3"
  },
  "language_info": {
   "codemirror_mode": {
    "name": "ipython",
    "version": 3
   },
   "file_extension": ".py",
   "mimetype": "text/x-python",
   "name": "python",
   "nbconvert_exporter": "python",
   "pygments_lexer": "ipython3",
   "version": "3.8.8"
  }
 },
 "nbformat": 4,
 "nbformat_minor": 5
}
