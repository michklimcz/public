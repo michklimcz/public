{
 "cells": [
  {
   "cell_type": "code",
   "execution_count": 2,
   "id": "e9a339bb",
   "metadata": {},
   "outputs": [
    {
     "data": {
      "text/plain": [
       "'8075fffffffffff'"
      ]
     },
     "execution_count": 2,
     "metadata": {},
     "output_type": "execute_result"
    }
   ],
   "source": [
    "import h3\n",
    "lat, lng = 0, 0\n",
    "resolution = 0\n",
    "h3.geo_to_h3(lat, lng, resolution)"
   ]
  },
  {
   "cell_type": "code",
   "execution_count": 53,
   "id": "051a5f71",
   "metadata": {},
   "outputs": [],
   "source": [
    "#Typy danych\n",
    "string = 'Przykladowy Tekst'\n",
    "integer = 15\n",
    "floater = 15.16\n",
    "Booleaner = True\n"
   ]
  },
  {
   "cell_type": "code",
   "execution_count": 4,
   "id": "2298e720",
   "metadata": {},
   "outputs": [
    {
     "data": {
      "text/plain": [
       "'Pzkao'"
      ]
     },
     "execution_count": 4,
     "metadata": {},
     "output_type": "execute_result"
    }
   ],
   "source": [
    "#Wchodzenie do stringow\n",
    "string[::2] #skacze po wartosciach stringa co 2 od pierwszego do ostatniego wyrazu\n",
    "string[5::2]\n",
    "string[:10:2]"
   ]
  },
  {
   "cell_type": "code",
   "execution_count": 5,
   "id": "be16de34",
   "metadata": {},
   "outputs": [
    {
     "name": "stdout",
     "output_type": "stream",
     "text": [
      "17\n"
     ]
    }
   ],
   "source": [
    "print(len(string))#dlugosc stringa"
   ]
  },
  {
   "cell_type": "code",
   "execution_count": 6,
   "id": "7df3e319",
   "metadata": {},
   "outputs": [
    {
     "name": "stdout",
     "output_type": "stream",
     "text": [
      "2\n"
     ]
    }
   ],
   "source": [
    "print(string.count('k'))#Daje liczbe wystapien danego znaku w stringu"
   ]
  },
  {
   "cell_type": "code",
   "execution_count": 7,
   "id": "ee9b71ca",
   "metadata": {},
   "outputs": [
    {
     "name": "stdout",
     "output_type": "stream",
     "text": [
      "4\n"
     ]
    }
   ],
   "source": [
    "print(string.find('k'))#wskazuje miejsce w ktorym znajduje sie dana czesc stringa,jezeli nie ma to wartosc = -1"
   ]
  },
  {
   "cell_type": "code",
   "execution_count": 8,
   "id": "7e4e7a53",
   "metadata": {},
   "outputs": [
    {
     "name": "stdout",
     "output_type": "stream",
     "text": [
      "12\n"
     ]
    }
   ],
   "source": [
    "print(string.find('tekst'))"
   ]
  },
  {
   "cell_type": "markdown",
   "id": "84dd015e",
   "metadata": {},
   "source": [
    "# Znaki specjalne"
   ]
  },
  {
   "cell_type": "code",
   "execution_count": 9,
   "id": "07f680c8",
   "metadata": {},
   "outputs": [],
   "source": [
    "# znaki specjalne\n",
    "# \\n - nowa linijka\n",
    "# \\t - tabulator\n",
    "# \\r\n",
    "# \\b\n",
    "# \\\\\n",
    "# \\'\n",
    "# \\\""
   ]
  },
  {
   "cell_type": "code",
   "execution_count": 10,
   "id": "368ba5a1",
   "metadata": {},
   "outputs": [
    {
     "name": "stdout",
     "output_type": "stream",
     "text": [
      "W dawnych czasach różne rzeczy się działy\n"
     ]
    }
   ],
   "source": [
    "\n",
    "print(\"W dawnych czasach różne rzeczy się działy\")"
   ]
  },
  {
   "cell_type": "code",
   "execution_count": 22,
   "id": "66314773",
   "metadata": {},
   "outputs": [
    {
     "name": "stdout",
     "output_type": "stream",
     "text": [
      "W\n",
      " dawnych czasach różne rzeczy się działy\n"
     ]
    }
   ],
   "source": [
    "#nowy wiersz\n",
    "print(\"W\\n dawnych czasach różne rzeczy się działy\")"
   ]
  },
  {
   "cell_type": "code",
   "execution_count": 23,
   "id": "69ce981f",
   "metadata": {},
   "outputs": [
    {
     "name": "stdout",
     "output_type": "stream",
     "text": [
      "W\t dawnych czasach różne rzeczy się działy\n"
     ]
    }
   ],
   "source": [
    "#tabulator\n",
    "print(\"W\\t dawnych czasach różne rzeczy się działy\")"
   ]
  },
  {
   "cell_type": "code",
   "execution_count": 25,
   "id": "cd72c108",
   "metadata": {},
   "outputs": [
    {
     "name": "stdout",
     "output_type": "stream",
     "text": [
      "W\b dawnych czasach ró\bżne rzeczy się działy\n"
     ]
    }
   ],
   "source": [
    "#usuwa poprzedni znak\n",
    "print(\"W\\b dawnych czasach ró\\bżne rzeczy się działy\")\n"
   ]
  },
  {
   "cell_type": "code",
   "execution_count": 98,
   "id": "ed2f1576",
   "metadata": {},
   "outputs": [
    {
     "name": "stdout",
     "output_type": "stream",
     "text": [
      "W dawnych czasach różne rze\r",
      "czy się działy\n"
     ]
    }
   ],
   "source": [
    "# ucina  wszystkie znaki przed \\r, czasem przenosi czesc zdania na poczatek\n",
    "print(\"W dawnych czasach różne rze\\rczy się działy\")"
   ]
  },
  {
   "cell_type": "code",
   "execution_count": 47,
   "id": "a1c04fca",
   "metadata": {},
   "outputs": [
    {
     "name": "stdout",
     "output_type": "stream",
     "text": [
      "W\\ dawnych czasach różne rzeczy\\ się działy\n"
     ]
    }
   ],
   "source": [
    "#ukosnik\n",
    "print(\"W\\\\ dawnych czasach różne rzeczy\\\\ się działy\")\n"
   ]
  },
  {
   "cell_type": "code",
   "execution_count": 50,
   "id": "57a9fcfb",
   "metadata": {},
   "outputs": [
    {
     "name": "stdout",
     "output_type": "stream",
     "text": [
      "W dawnych czasa'ch różne rzeczy się działy\n"
     ]
    }
   ],
   "source": [
    "#apostrof\n",
    "print('W dawnych czasa\\'ch różne rzeczy się działy')\n"
   ]
  },
  {
   "cell_type": "code",
   "execution_count": 52,
   "id": "91cade58",
   "metadata": {},
   "outputs": [
    {
     "name": "stdout",
     "output_type": "stream",
     "text": [
      "W dawnych czasach różn\"e rzeczy się działy\n"
     ]
    }
   ],
   "source": [
    "#cudzyslow\n",
    "print(\"W dawnych czasach różn\\\"e rzeczy się działy\")\n"
   ]
  },
  {
   "cell_type": "code",
   "execution_count": 16,
   "id": "28a722f2",
   "metadata": {},
   "outputs": [
    {
     "name": "stdout",
     "output_type": "stream",
     "text": [
      "Przykladowy tekst\n"
     ]
    }
   ],
   "source": [
    "a = print(string[:])"
   ]
  },
  {
   "cell_type": "code",
   "execution_count": 17,
   "id": "61267ec7",
   "metadata": {},
   "outputs": [],
   "source": [
    "b = string[:]"
   ]
  },
  {
   "cell_type": "code",
   "execution_count": 20,
   "id": "4bd34762",
   "metadata": {},
   "outputs": [
    {
     "data": {
      "text/plain": [
       "NoneType"
      ]
     },
     "execution_count": 20,
     "metadata": {},
     "output_type": "execute_result"
    }
   ],
   "source": [
    "type(a)"
   ]
  },
  {
   "cell_type": "code",
   "execution_count": 21,
   "id": "6027d36e",
   "metadata": {},
   "outputs": [
    {
     "data": {
      "text/plain": [
       "str"
      ]
     },
     "execution_count": 21,
     "metadata": {},
     "output_type": "execute_result"
    }
   ],
   "source": [
    "type(b)"
   ]
  },
  {
   "cell_type": "code",
   "execution_count": 54,
   "id": "43f91fe6",
   "metadata": {},
   "outputs": [
    {
     "data": {
      "text/plain": [
       "'Przykladowy Tekst'"
      ]
     },
     "execution_count": 54,
     "metadata": {},
     "output_type": "execute_result"
    }
   ],
   "source": [
    "string"
   ]
  },
  {
   "cell_type": "markdown",
   "id": "39fb835e",
   "metadata": {},
   "source": [
    "# Metody w stringach"
   ]
  },
  {
   "cell_type": "code",
   "execution_count": 57,
   "id": "9003739e",
   "metadata": {},
   "outputs": [
    {
     "data": {
      "text/plain": [
       "'przykladowy tekst'"
      ]
     },
     "execution_count": 57,
     "metadata": {},
     "output_type": "execute_result"
    }
   ],
   "source": [
    "#Zmienia wszystkie znaki na male litery\n",
    "string.lower()\n"
   ]
  },
  {
   "cell_type": "code",
   "execution_count": 60,
   "id": "e2b14447",
   "metadata": {},
   "outputs": [
    {
     "data": {
      "text/plain": [
       "'PRZYKLADOWY TEKST'"
      ]
     },
     "execution_count": 60,
     "metadata": {},
     "output_type": "execute_result"
    }
   ],
   "source": [
    "#Zmienia wszystkie znaki na duze litery\n",
    "string.upper()"
   ]
  },
  {
   "cell_type": "code",
   "execution_count": 61,
   "id": "4f819884",
   "metadata": {},
   "outputs": [
    {
     "data": {
      "text/plain": [
       "'pRZYKLADOWY tEKST'"
      ]
     },
     "execution_count": 61,
     "metadata": {},
     "output_type": "execute_result"
    }
   ],
   "source": [
    "string.swapcase()"
   ]
  },
  {
   "cell_type": "code",
   "execution_count": 66,
   "id": "1c98e2d8",
   "metadata": {},
   "outputs": [],
   "source": [
    "#zmienia 1 litere w ciagu na wielka\n",
    "a = string.capitalize()"
   ]
  },
  {
   "cell_type": "code",
   "execution_count": 68,
   "id": "611c137b",
   "metadata": {},
   "outputs": [
    {
     "data": {
      "text/plain": [
       "'Przykladowy Tekst'"
      ]
     },
     "execution_count": 68,
     "metadata": {},
     "output_type": "execute_result"
    }
   ],
   "source": [
    "#kazdy wyraz z wielkiej\n",
    "a.title()"
   ]
  },
  {
   "cell_type": "code",
   "execution_count": 81,
   "id": "f8a40cf6",
   "metadata": {},
   "outputs": [],
   "source": [
    "a=['a','b','c','d','e','f','g','h','i','j']"
   ]
  },
  {
   "cell_type": "code",
   "execution_count": 82,
   "id": "7971e5ad",
   "metadata": {},
   "outputs": [
    {
     "data": {
      "text/plain": [
       "['a', 'b', 'c', 'd', 'e', 'f', 'g', 'h', 'i', 'j']"
      ]
     },
     "execution_count": 82,
     "metadata": {},
     "output_type": "execute_result"
    }
   ],
   "source": [
    "a"
   ]
  },
  {
   "cell_type": "code",
   "execution_count": 99,
   "id": "c4e1e76a",
   "metadata": {},
   "outputs": [
    {
     "data": {
      "text/plain": [
       "'a.b.c.d.e.f.g.h.i.j'"
      ]
     },
     "execution_count": 99,
     "metadata": {},
     "output_type": "execute_result"
    }
   ],
   "source": [
    "literka = '.' \n",
    "b = literka.join(a)\n",
    "b"
   ]
  },
  {
   "cell_type": "code",
   "execution_count": 196,
   "id": "fdee7874",
   "metadata": {},
   "outputs": [
    {
     "data": {
      "text/plain": [
       "'        Blok /wolnostojacy w /zabrzu     '"
      ]
     },
     "execution_count": 196,
     "metadata": {},
     "output_type": "execute_result"
    }
   ],
   "source": [
    "#zmienna.strip() - usuwa biale znaki z poczatku i konca jezeli chcemy \n",
    "#usuanc biale z naki z jednej strony to uzywamy lstrip() lub rstrip()\n",
    "biale_napisy=\"        Blok /wolnostojacy w /zabrzu     \"\n",
    "biale_napisy"
   ]
  },
  {
   "cell_type": "code",
   "execution_count": 197,
   "id": "f45c3a1e",
   "metadata": {},
   "outputs": [
    {
     "data": {
      "text/plain": [
       "'Blok /wolnostojacy w /zabrzu'"
      ]
     },
     "execution_count": 197,
     "metadata": {},
     "output_type": "execute_result"
    }
   ],
   "source": [
    "biale_napisy.strip()"
   ]
  },
  {
   "cell_type": "code",
   "execution_count": 198,
   "id": "50cf3ac4",
   "metadata": {},
   "outputs": [
    {
     "data": {
      "text/plain": [
       "'z'"
      ]
     },
     "execution_count": 198,
     "metadata": {},
     "output_type": "execute_result"
    }
   ],
   "source": [
    "#zwraca najdalej polozona litere w alfabecie(uwaga na polskie znaki)\n",
    "max(biale_napisy)"
   ]
  },
  {
   "cell_type": "code",
   "execution_count": 192,
   "id": "0b9749b2",
   "metadata": {},
   "outputs": [
    {
     "data": {
      "text/plain": [
       "'B'"
      ]
     },
     "execution_count": 192,
     "metadata": {},
     "output_type": "execute_result"
    }
   ],
   "source": [
    "#zwraca najblizej polzona litere w alfabecie (uwaga na spacje)\n",
    "min(biale_napisy.strip()[:4])"
   ]
  },
  {
   "cell_type": "code",
   "execution_count": 201,
   "id": "8526e4f7",
   "metadata": {},
   "outputs": [
    {
     "data": {
      "text/plain": [
       "['        Blok ', 'wolnostojacy w ', 'zabrzu     ']"
      ]
     },
     "execution_count": 201,
     "metadata": {},
     "output_type": "execute_result"
    }
   ],
   "source": [
    "#rozdziala lancuch na liste po separatorze\n",
    "biale_napisy.split('/')"
   ]
  },
  {
   "cell_type": "code",
   "execution_count": 203,
   "id": "5593fefa",
   "metadata": {},
   "outputs": [
    {
     "data": {
      "text/plain": [
       "['        Blok ', 'wolnostojacy w /zabrzu     ']"
      ]
     },
     "execution_count": 203,
     "metadata": {},
     "output_type": "execute_result"
    }
   ],
   "source": [
    "#rozdziela lancuch na liste po separatorze maxsplit daje maksymana ilosc rozdzielen\n",
    "biale_napisy.split('/',maxsplit=1)"
   ]
  },
  {
   "cell_type": "code",
   "execution_count": 227,
   "id": "fc62724c",
   "metadata": {},
   "outputs": [
    {
     "name": "stdout",
     "output_type": "stream",
     "text": [
      "HelloWorld \n",
      "Welcome \n",
      "ohh Welcome\n"
     ]
    }
   ],
   "source": [
    "splitowanie = \"HelloWorld \\nWelcome \\nohh Welcome\"\n",
    "print(splitowanie)"
   ]
  },
  {
   "cell_type": "code",
   "execution_count": 228,
   "id": "28eb4890",
   "metadata": {},
   "outputs": [
    {
     "data": {
      "text/plain": [
       "['HelloWorld ', 'Welcome ', 'ohh Welcome']"
      ]
     },
     "execution_count": 228,
     "metadata": {},
     "output_type": "execute_result"
    }
   ],
   "source": [
    "#dzieli łancuch na tablice przy nowej linii\n",
    "splitowanie.splitlines()"
   ]
  },
  {
   "cell_type": "code",
   "execution_count": 245,
   "id": "5ea166eb",
   "metadata": {},
   "outputs": [
    {
     "name": "stdout",
     "output_type": "stream",
     "text": [
      "HelloWorld \n",
      "czesc \n",
      "ohh Welcome\n"
     ]
    }
   ],
   "source": [
    "#zamienia pierwsza wartosc na sruga w przpadku wartosci liczbowej tylko taka ilosc bedzie zamieniona(mozna pominac)\n",
    "print(splitowanie.replace('Welcome','czesc',1))"
   ]
  },
  {
   "cell_type": "code",
   "execution_count": 247,
   "id": "d95242c2",
   "metadata": {},
   "outputs": [
    {
     "name": "stdout",
     "output_type": "stream",
     "text": [
      "        Blok /wolnostojacy w /zabrzu     HelloWorld \n",
      "Welcome \n",
      "ohh Welcome\n"
     ]
    }
   ],
   "source": [
    "print(biale_napisy+splitowanie)"
   ]
  },
  {
   "cell_type": "code",
   "execution_count": 248,
   "id": "a61b0888",
   "metadata": {},
   "outputs": [],
   "source": [
    "rok=2000"
   ]
  },
  {
   "cell_type": "code",
   "execution_count": 258,
   "id": "67ede546",
   "metadata": {},
   "outputs": [
    {
     "ename": "TypeError",
     "evalue": "can only concatenate str (not \"int\") to str",
     "output_type": "error",
     "traceback": [
      "\u001b[1;31m---------------------------------------------------------------------------\u001b[0m",
      "\u001b[1;31mTypeError\u001b[0m                                 Traceback (most recent call last)",
      "\u001b[1;32m<ipython-input-258-8d9c21e56c13>\u001b[0m in \u001b[0;36m<module>\u001b[1;34m\u001b[0m\n\u001b[0;32m      1\u001b[0m \u001b[1;31m#musi byc blad bo inne typy danych\u001b[0m\u001b[1;33m\u001b[0m\u001b[1;33m\u001b[0m\u001b[1;33m\u001b[0m\u001b[0m\n\u001b[1;32m----> 2\u001b[1;33m \u001b[0mprint\u001b[0m\u001b[1;33m(\u001b[0m\u001b[0mstring\u001b[0m\u001b[1;33m+\u001b[0m\u001b[1;34m' '\u001b[0m\u001b[1;33m+\u001b[0m\u001b[0mrok\u001b[0m\u001b[1;33m+\u001b[0m\u001b[1;34m' '\u001b[0m\u001b[1;33m+\u001b[0m\u001b[0mbiale_napisy\u001b[0m\u001b[1;33m)\u001b[0m\u001b[1;33m\u001b[0m\u001b[1;33m\u001b[0m\u001b[0m\n\u001b[0m",
      "\u001b[1;31mTypeError\u001b[0m: can only concatenate str (not \"int\") to str"
     ]
    }
   ],
   "source": [
    "#musi byc blad bo inne typy danych\n",
    "print(string+' '+rok+' '+biale_napisy)"
   ]
  },
  {
   "cell_type": "code",
   "execution_count": 274,
   "id": "7210fcc0",
   "metadata": {},
   "outputs": [
    {
     "name": "stdout",
     "output_type": "stream",
     "text": [
      "Przykladowy Tekst2000          Blok /wolnostojacy w /zabrzu     \n"
     ]
    }
   ],
   "source": [
    "#formatowanie na non typa tgz Built-in Types \n",
    "#https://docs.python.org/2/library/stdtypes.html#string-formatting-operations\n",
    "print(string+\"%s \"% rok +\" \"+ biale_napisy)"
   ]
  },
  {
   "cell_type": "code",
   "execution_count": 275,
   "id": "429856c4",
   "metadata": {},
   "outputs": [
    {
     "name": "stdout",
     "output_type": "stream",
     "text": [
      "tekst\n"
     ]
    },
    {
     "data": {
      "text/plain": [
       "NoneType"
      ]
     },
     "execution_count": 275,
     "metadata": {},
     "output_type": "execute_result"
    }
   ],
   "source": [
    "type(print('%s'  %'tekst'))"
   ]
  },
  {
   "cell_type": "code",
   "execution_count": 279,
   "id": "349c666b",
   "metadata": {},
   "outputs": [
    {
     "name": "stdout",
     "output_type": "stream",
     "text": [
      "Podaj swoje imie: michal\n",
      "Podaj swoj wiek: 15\n",
      "podam nazwe miasta w ktorym mieszkach: lodz\n",
      "Czesc michal! Widze, ze masz 15 lat i mieszkasz w lodz\n",
      "Czesc michal! WIdze, ze masz 15 lat i mieszkasz w lodz\n"
     ]
    }
   ],
   "source": [
    "#pierwszy program\n",
    "imie = input('Podaj swoje imie: ')\n",
    "wiek = input('Podaj swoj wiek: ')\n",
    "miejsce_zamieszkania = input('podam nazwe miasta w ktorym mieszkach: ')\n",
    "print('Czesc '+imie+ '! Widze, ze masz '+ str(wiek)+' lat i mieszkasz w '+miejsce_zamieszkania)\n",
    "print('Czesc {}! WIdze, ze masz {} lat i mieszkasz w {}'.format(imie,wiek,miejsce_zamieszkania))\n"
   ]
  },
  {
   "cell_type": "markdown",
   "id": "e2ace107",
   "metadata": {},
   "source": [
    "# Operatory matematyczne"
   ]
  },
  {
   "cell_type": "code",
   "execution_count": 308,
   "id": "293cd220",
   "metadata": {},
   "outputs": [
    {
     "name": "stdout",
     "output_type": "stream",
     "text": [
      "Końcówka, która nie została podzielona np. \n",
      "7/3=2 i reszty 1 czyli 7%3=1\n",
      "Ilosc jaka razy liczba a zostala podzielona przez liczbe b np.\n",
      "7/3=2 i liczba zostala podzielona 2 razy czyli 7//3=2\n",
      "zwykle potegowanie n.\n",
      "7**3=343\n"
     ]
    }
   ],
   "source": [
    "a=7\n",
    "b=3\n",
    "dodawanie=a+b\n",
    "odejmowanie=a-b\n",
    "mnozenie=a*b\n",
    "dzielenie=a/b\n",
    "dzielenie_reszta=a%b\n",
    "dzielenie_ilosc=a//b\n",
    "potegowanie=a**b\n",
    "print('Końcówka, która nie została podzielona np. \\n7/3=2 i reszty 1 czyli {}%{}={}'.format(a,b,dzielenie_reszta))\n",
    "print('Ilosc jaka razy liczba a zostala podzielona przez liczbe b np.\\n7/3=2 i liczba zostala podzielona 2 razy czyli {}//{}={}'.format(a,b,dzielenie_ilosc))\n",
    "print('zwykle potegowanie n.\\n{}**{}={}'.format(a,b,potegowanie))\n"
   ]
  },
  {
   "cell_type": "markdown",
   "id": "b546e928",
   "metadata": {},
   "source": [
    "# Listy"
   ]
  },
  {
   "cell_type": "code",
   "execution_count": 405,
   "id": "cebacf6b",
   "metadata": {},
   "outputs": [
    {
     "data": {
      "text/plain": [
       "False"
      ]
     },
     "execution_count": 405,
     "metadata": {},
     "output_type": "execute_result"
    }
   ],
   "source": [
    "#                    0      1      2      3   4   5     6\n",
    "przykladowa_lista=['mysz','kot','pies','wies',3,'mysz',3]\n",
    "przykladowa_lista2=['pies','kot','mysz','wies',3,'mysz',3]\n",
    "#                     -7     -6    -5     -4   -3   -2  -1\n",
    "przykladowa_lista is przykladowa_lista2\n",
    "#zmiana kolejnosci elemntu oznacza ze listy sa rozne"
   ]
  },
  {
   "cell_type": "code",
   "execution_count": 406,
   "id": "8a35ee11",
   "metadata": {},
   "outputs": [
    {
     "name": "stdout",
     "output_type": "stream",
     "text": [
      "3 myszy mieszkają na wies razem z kotem Tomem i pieskiem Spikiem\n"
     ]
    }
   ],
   "source": [
    "print('{} {}y mieszkają na {} razem z {}em Tomem i {}kiem Spikiem'.format(przykladowa_lista[4],przykladowa_lista[0],przykladowa_lista[3],przykladowa_lista[1],przykladowa_lista[2]))"
   ]
  },
  {
   "cell_type": "code",
   "execution_count": 407,
   "id": "87c1a8ea",
   "metadata": {},
   "outputs": [
    {
     "data": {
      "text/plain": [
       "list"
      ]
     },
     "execution_count": 407,
     "metadata": {},
     "output_type": "execute_result"
    }
   ],
   "source": [
    "type(przykladowa_lista)"
   ]
  },
  {
   "cell_type": "code",
   "execution_count": 408,
   "id": "4fc61f1a",
   "metadata": {},
   "outputs": [],
   "source": [
    "#zagniezdzanie listy czyli w np drugim polu listy jest nowa lista\n",
    "zagniezdzona_lista=['mysz','kot','pies','wies',3,['zwierzeta',['tom','jerry','spike']]]"
   ]
  },
  {
   "cell_type": "code",
   "execution_count": 409,
   "id": "37701639",
   "metadata": {},
   "outputs": [
    {
     "data": {
      "text/plain": [
       "['mysz', 'kot', 'pies', 'wies', 3, ['zwierzeta', ['tom', 'jerry', 'spike']]]"
      ]
     },
     "execution_count": 409,
     "metadata": {},
     "output_type": "execute_result"
    }
   ],
   "source": [
    "zagniezdzona_lista"
   ]
  },
  {
   "cell_type": "code",
   "execution_count": 410,
   "id": "59669bb5",
   "metadata": {},
   "outputs": [
    {
     "data": {
      "text/plain": [
       "['zwierzeta', ['tom', 'jerry', 'spike']]"
      ]
     },
     "execution_count": 410,
     "metadata": {},
     "output_type": "execute_result"
    }
   ],
   "source": [
    "zagniezdzona_lista[5]"
   ]
  },
  {
   "cell_type": "code",
   "execution_count": 411,
   "id": "242be07b",
   "metadata": {},
   "outputs": [
    {
     "data": {
      "text/plain": [
       "['mysz', 'kot', 'pies', 'wies', 3, 'mysz polna', 10]"
      ]
     },
     "execution_count": 411,
     "metadata": {},
     "output_type": "execute_result"
    }
   ],
   "source": [
    "#zmiana wartosci w liscie\n",
    "przykladowa_lista[6]=10\n",
    "przykladowa_lista[5]='mysz polna'\n",
    "przykladowa_lista"
   ]
  },
  {
   "cell_type": "code",
   "execution_count": 412,
   "id": "f4f344b4",
   "metadata": {},
   "outputs": [
    {
     "data": {
      "text/plain": [
       "['mysz', 'kot', 'pies', 'wies', 3, 'mysz polna']"
      ]
     },
     "execution_count": 412,
     "metadata": {},
     "output_type": "execute_result"
    }
   ],
   "source": [
    "#usuwanie wartosci z listy\n",
    "del przykladowa_lista[6]\n",
    "przykladowa_lista"
   ]
  },
  {
   "cell_type": "code",
   "execution_count": 413,
   "id": "e896b2e2",
   "metadata": {},
   "outputs": [
    {
     "data": {
      "text/plain": [
       "['mysz', 'kot', 'pies', 'wies', 3, 'mysz polna', 'pies husky']"
      ]
     },
     "execution_count": 413,
     "metadata": {},
     "output_type": "execute_result"
    }
   ],
   "source": [
    "#dodawanie elementow do listy\n",
    "przykladowa_lista+=['pies husky']\n",
    "przykladowa_lista"
   ]
  },
  {
   "cell_type": "code",
   "execution_count": 414,
   "id": "b1de1cee",
   "metadata": {},
   "outputs": [
    {
     "data": {
      "text/plain": [
       "['wiewiorka', 'mysz', 'kot', 'pies', 'wies', 3, 'mysz polna', 'pies husky']"
      ]
     },
     "execution_count": 414,
     "metadata": {},
     "output_type": "execute_result"
    }
   ],
   "source": [
    "przykladowa_lista=['wiewiorka']+przykladowa_lista\n",
    "przykladowa_lista"
   ]
  },
  {
   "cell_type": "code",
   "execution_count": 415,
   "id": "bc179e2c",
   "metadata": {},
   "outputs": [
    {
     "data": {
      "text/plain": [
       "['wiewiorka',\n",
       " 'mysz',\n",
       " 'kot',\n",
       " 'pies',\n",
       " 'wies',\n",
       " 3,\n",
       " 'mysz polna',\n",
       " 'pies husky',\n",
       " 'zajac']"
      ]
     },
     "execution_count": 415,
     "metadata": {},
     "output_type": "execute_result"
    }
   ],
   "source": [
    "#append dodaje do listy wyrazy ze zmiennej\n",
    "do_appenda='zajac'\n",
    "przykladowa_lista.append(do_appenda)\n",
    "przykladowa_lista"
   ]
  },
  {
   "cell_type": "code",
   "execution_count": 416,
   "id": "5cc4eb73",
   "metadata": {},
   "outputs": [
    {
     "data": {
      "text/plain": [
       "['wiewiorka',\n",
       " 'mysz',\n",
       " 'kot',\n",
       " 'tygrys',\n",
       " 'pies',\n",
       " 'wies',\n",
       " 3,\n",
       " 'mysz polna',\n",
       " 'pies husky',\n",
       " 'zajac']"
      ]
     },
     "execution_count": 416,
     "metadata": {},
     "output_type": "execute_result"
    }
   ],
   "source": [
    "#lista.insert(index,zmienna) wklada do wlasniwego miejsca zmienna\n",
    "przykladowa_lista.insert(3,'tygrys')\n",
    "przykladowa_lista"
   ]
  },
  {
   "cell_type": "code",
   "execution_count": 421,
   "id": "91cc161e",
   "metadata": {},
   "outputs": [
    {
     "data": {
      "text/plain": [
       "['wiewiorka',\n",
       " 'mysz',\n",
       " 'kot',\n",
       " 'tygrys',\n",
       " 'pies',\n",
       " 'wies',\n",
       " 3,\n",
       " 'mysz polna',\n",
       " 'zajac']"
      ]
     },
     "execution_count": 421,
     "metadata": {},
     "output_type": "execute_result"
    }
   ],
   "source": [
    "#usuwa PIERWSZY wybrany element z listy\n",
    "przykladowa_lista.remove('pies husky')\n",
    "przykladowa_lista"
   ]
  },
  {
   "cell_type": "code",
   "execution_count": 432,
   "id": "b9e84314",
   "metadata": {},
   "outputs": [
    {
     "data": {
      "text/plain": [
       "['tygrys', 'pies', 'wies', 3, 'mysz polna', 'zajac']"
      ]
     },
     "execution_count": 432,
     "metadata": {},
     "output_type": "execute_result"
    }
   ],
   "source": [
    "#usuwa z listy element ze wskazanego indeksu\n",
    "przykladowa_lista.pop(0)\n",
    "przykladowa_lista"
   ]
  },
  {
   "cell_type": "code",
   "execution_count": 436,
   "id": "8a25444c",
   "metadata": {},
   "outputs": [
    {
     "data": {
      "text/plain": [
       "['wies']"
      ]
     },
     "execution_count": 436,
     "metadata": {},
     "output_type": "execute_result"
    }
   ],
   "source": [
    "przykladowa_lista[2:3]"
   ]
  },
  {
   "cell_type": "markdown",
   "id": "a1c7b826",
   "metadata": {},
   "source": [
    "# Krotki (tuple)\n"
   ]
  },
  {
   "cell_type": "code",
   "execution_count": null,
   "id": "591d39b5",
   "metadata": {},
   "outputs": [],
   "source": [
    "#podobne do list ale sa robione za pomoca () a nie [] a ich elementow nie mozna usuwac,zamieniac itd"
   ]
  },
  {
   "cell_type": "code",
   "execution_count": 439,
   "id": "3e8abc34",
   "metadata": {},
   "outputs": [],
   "source": [
    "krotka=('tiger',3,'house','village','Norway','Oslo')"
   ]
  },
  {
   "cell_type": "code",
   "execution_count": 440,
   "id": "5f2dacd4",
   "metadata": {},
   "outputs": [
    {
     "data": {
      "text/plain": [
       "tuple"
      ]
     },
     "execution_count": 440,
     "metadata": {},
     "output_type": "execute_result"
    }
   ],
   "source": [
    "type(krotka)"
   ]
  },
  {
   "cell_type": "code",
   "execution_count": 441,
   "id": "b5f4c1fd",
   "metadata": {},
   "outputs": [
    {
     "data": {
      "text/plain": [
       "'Oslo'"
      ]
     },
     "execution_count": 441,
     "metadata": {},
     "output_type": "execute_result"
    }
   ],
   "source": [
    "krotka[5]"
   ]
  },
  {
   "cell_type": "code",
   "execution_count": 447,
   "id": "e6109242",
   "metadata": {},
   "outputs": [
    {
     "data": {
      "text/plain": [
       "'village'"
      ]
     },
     "execution_count": 447,
     "metadata": {},
     "output_type": "execute_result"
    }
   ],
   "source": [
    "(t1,t2,t3,t4,t5,t6)=krotka\n",
    "t4"
   ]
  },
  {
   "cell_type": "code",
   "execution_count": 455,
   "id": "54a78303",
   "metadata": {},
   "outputs": [
    {
     "name": "stdout",
     "output_type": "stream",
     "text": [
      "== != > < >= <= not or and\n"
     ]
    }
   ],
   "source": [
    "#OPERATORY\n",
    "print('== != > < >= <= not or and')"
   ]
  },
  {
   "cell_type": "markdown",
   "id": "c916bfcb",
   "metadata": {},
   "source": [
    "<!-- ==\n",
    "=!\n",
    "<\n",
    ">\n",
    "<=\n",
    ">=\n",
    "not\n",
    "or\n",
    "and\n",
    " -->\n"
   ]
  },
  {
   "cell_type": "code",
   "execution_count": null,
   "id": "7d82f699",
   "metadata": {},
   "outputs": [],
   "source": []
  }
 ],
 "metadata": {
  "kernelspec": {
   "display_name": "Python 3",
   "language": "python",
   "name": "python3"
  },
  "language_info": {
   "codemirror_mode": {
    "name": "ipython",
    "version": 3
   },
   "file_extension": ".py",
   "mimetype": "text/x-python",
   "name": "python",
   "nbconvert_exporter": "python",
   "pygments_lexer": "ipython3",
   "version": "3.8.8"
  }
 },
 "nbformat": 4,
 "nbformat_minor": 5
}
