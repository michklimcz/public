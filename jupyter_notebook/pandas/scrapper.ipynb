{
 "cells": [
  {
   "cell_type": "code",
   "execution_count": 29,
   "id": "149d451e",
   "metadata": {},
   "outputs": [],
   "source": [
    "import requests as rq\n",
    "from bs4 import BeautifulSoup as BS"
   ]
  },
  {
   "cell_type": "code",
   "execution_count": 12,
   "id": "1d4a5bfb",
   "metadata": {},
   "outputs": [],
   "source": [
    "a = rq.get('https://pl.wikipedia.org/wiki/Zygmunt_III_Waza')"
   ]
  },
  {
   "cell_type": "code",
   "execution_count": 13,
   "id": "0ec6e795",
   "metadata": {},
   "outputs": [
    {
     "data": {
      "text/plain": [
       "<Response [200]>"
      ]
     },
     "execution_count": 13,
     "metadata": {},
     "output_type": "execute_result"
    }
   ],
   "source": [
    "a"
   ]
  },
  {
   "cell_type": "code",
   "execution_count": 14,
   "id": "2511ac13",
   "metadata": {},
   "outputs": [
    {
     "data": {
      "text/plain": [
       "200"
      ]
     },
     "execution_count": 14,
     "metadata": {},
     "output_type": "execute_result"
    }
   ],
   "source": [
    "a.status_code"
   ]
  },
  {
   "cell_type": "code",
   "execution_count": 25,
   "id": "4946f463",
   "metadata": {},
   "outputs": [],
   "source": [
    "b = a.text"
   ]
  },
  {
   "cell_type": "code",
   "execution_count": 28,
   "id": "9e7e3c14",
   "metadata": {},
   "outputs": [],
   "source": [
    "html_doc=\"\"\"<html>\n",
    "<head>\n",
    "    <title>Moja pierwsza strona!</title>\n",
    "</head>\n",
    "<body>\n",
    "<p>Lorem ipsum dolor sit amet, consectetur adipiscing elit. Donec posuere elit at malesuada tempor. Donec eget ligula in ante auctor luctus. Phasellus iaculis porttitor gravida. Donec eget sem lorem. Morbi a libero imperdiet, viverra tellus ac, consequat tortor. Suspendisse nibh massa, accumsan non neque a, vestibulum commodo dui.</p>\n",
    "<p>Phasellus vestibulum ut <br>erat sit amet ullamcorper. Nam at elit feugiat, dapibus ante vitae, ullamcorper dui. Nunc rutrum at nibh tincidunt mattis. In finibus sed ante vel mollis. Donec at semper metus. Aenean quis consectetur risus. Sed suscipit felis sed ex pretium euismod. In fermentum mi a odio porttitor, dapibus aliquet leo accumsan. Suspendisse pretium augue et faucibus euismod. Quisque risus metus, ultricies nec tortor at, efficitur convallis nunc.</p>\n",
    "<ul>\n",
    "    <li>Pierwszy punkt</li>\n",
    "    <li>Drugi punkt</li>\n",
    "    <li>Trzeci punkt</li>\n",
    "</ul>\n",
    "<ol>\n",
    "    <li>Pierwszy punkt</li>\n",
    "    <li>Drugi punkt</li>\n",
    "    <li>Trzeci punkt</li>\n",
    "</ol>\n",
    "<table border=\"3\" bgcolor=\"#ff00ff\" class=\"tabela blog\">\n",
    "    <tr><th>Naglowek 1</th><th>Naglowek 2</th></tr>\n",
    "    <tr><td>komorka 11</td><td>komorka 12</td></tr>\n",
    "    <tr><td>komorka 21</td><td>komorka 22</td></tr>\n",
    "</table>\n",
    "<a href=\"http://google.pl\">Arcyciekawa strona</a>\n",
    "</body>\n",
    "</html>\"\"\""
   ]
  },
  {
   "cell_type": "code",
   "execution_count": 31,
   "id": "b5010f18",
   "metadata": {},
   "outputs": [],
   "source": [
    "soup = BS(html_doc,'html.parser')"
   ]
  },
  {
   "cell_type": "code",
   "execution_count": 32,
   "id": "caf2bb91",
   "metadata": {},
   "outputs": [
    {
     "data": {
      "text/plain": [
       "<title>Moja pierwsza strona!</title>"
      ]
     },
     "execution_count": 32,
     "metadata": {},
     "output_type": "execute_result"
    }
   ],
   "source": [
    "soup.title"
   ]
  },
  {
   "cell_type": "code",
   "execution_count": 34,
   "id": "928489d1",
   "metadata": {},
   "outputs": [
    {
     "data": {
      "text/plain": [
       "'title'"
      ]
     },
     "execution_count": 34,
     "metadata": {},
     "output_type": "execute_result"
    }
   ],
   "source": [
    "soup.title.name"
   ]
  },
  {
   "cell_type": "code",
   "execution_count": 35,
   "id": "26181176",
   "metadata": {},
   "outputs": [
    {
     "data": {
      "text/plain": [
       "'Moja pierwsza strona!'"
      ]
     },
     "execution_count": 35,
     "metadata": {},
     "output_type": "execute_result"
    }
   ],
   "source": [
    "soup.title.text"
   ]
  },
  {
   "cell_type": "code",
   "execution_count": 36,
   "id": "48c8c727",
   "metadata": {},
   "outputs": [
    {
     "data": {
      "text/plain": [
       "['Moja pierwsza strona!']"
      ]
     },
     "execution_count": 36,
     "metadata": {},
     "output_type": "execute_result"
    }
   ],
   "source": [
    "soup.title.contents"
   ]
  },
  {
   "cell_type": "code",
   "execution_count": 39,
   "id": "283d1763",
   "metadata": {},
   "outputs": [
    {
     "data": {
      "text/plain": [
       "'Moja pierwsza strona!'"
      ]
     },
     "execution_count": 39,
     "metadata": {},
     "output_type": "execute_result"
    }
   ],
   "source": [
    "soup.title.string"
   ]
  },
  {
   "cell_type": "code",
   "execution_count": 55,
   "id": "87636fcd",
   "metadata": {},
   "outputs": [
    {
     "data": {
      "text/plain": [
       "'\\nPierwszy punkt\\nDrugi punkt\\nTrzeci punkt\\n'"
      ]
     },
     "execution_count": 55,
     "metadata": {},
     "output_type": "execute_result"
    }
   ],
   "source": [
    "soup.ul.text"
   ]
  },
  {
   "cell_type": "code",
   "execution_count": 56,
   "id": "cd72b5ed",
   "metadata": {},
   "outputs": [
    {
     "data": {
      "text/plain": [
       "['\\n',\n",
       " <li>Pierwszy punkt</li>,\n",
       " '\\n',\n",
       " <li>Drugi punkt</li>,\n",
       " '\\n',\n",
       " <li>Trzeci punkt</li>,\n",
       " '\\n']"
      ]
     },
     "execution_count": 56,
     "metadata": {},
     "output_type": "execute_result"
    }
   ],
   "source": [
    "soup.ul.contents"
   ]
  },
  {
   "cell_type": "code",
   "execution_count": 64,
   "id": "23e79079",
   "metadata": {},
   "outputs": [
    {
     "data": {
      "text/plain": [
       "'3'"
      ]
     },
     "execution_count": 64,
     "metadata": {},
     "output_type": "execute_result"
    }
   ],
   "source": [
    "soup.table['border']"
   ]
  },
  {
   "cell_type": "code",
   "execution_count": 77,
   "id": "ba5c1750",
   "metadata": {},
   "outputs": [
    {
     "data": {
      "text/plain": [
       "True"
      ]
     },
     "execution_count": 77,
     "metadata": {},
     "output_type": "execute_result"
    }
   ],
   "source": [
    "soup.table.has_attr('border')"
   ]
  },
  {
   "cell_type": "code",
   "execution_count": 78,
   "id": "686313d2",
   "metadata": {},
   "outputs": [
    {
     "data": {
      "text/plain": [
       "False"
      ]
     },
     "execution_count": 78,
     "metadata": {},
     "output_type": "execute_result"
    }
   ],
   "source": [
    "soup.table.has_attr('href')"
   ]
  },
  {
   "cell_type": "code",
   "execution_count": 79,
   "id": "fb72dee5",
   "metadata": {},
   "outputs": [
    {
     "data": {
      "text/plain": [
       "{'border': '3', 'bgcolor': '#ff00ff', 'class': ['tabela', 'blog']}"
      ]
     },
     "execution_count": 79,
     "metadata": {},
     "output_type": "execute_result"
    }
   ],
   "source": [
    "soup.table.attrs"
   ]
  },
  {
   "cell_type": "code",
   "execution_count": 100,
   "id": "188355c2",
   "metadata": {},
   "outputs": [
    {
     "data": {
      "text/plain": [
       "'3'"
      ]
     },
     "execution_count": 100,
     "metadata": {},
     "output_type": "execute_result"
    }
   ],
   "source": [
    "soup.table['border']"
   ]
  },
  {
   "cell_type": "code",
   "execution_count": 113,
   "id": "15e9197d",
   "metadata": {},
   "outputs": [
    {
     "data": {
      "text/plain": [
       "[<p>Lorem ipsum dolor sit amet, consectetur adipiscing elit. Donec posuere elit at malesuada tempor. Donec eget ligula in ante auctor luctus. Phasellus iaculis porttitor gravida. Donec eget sem lorem. Morbi a libero imperdiet, viverra tellus ac, consequat tortor. Suspendisse nibh massa, accumsan non neque a, vestibulum commodo dui.</p>,\n",
       " <p>Phasellus vestibulum ut <br/>erat sit amet ullamcorper. Nam at elit feugiat, dapibus ante vitae, ullamcorper dui. Nunc rutrum at nibh tincidunt mattis. In finibus sed ante vel mollis. Donec at semper metus. Aenean quis consectetur risus. Sed suscipit felis sed ex pretium euismod. In fermentum mi a odio porttitor, dapibus aliquet leo accumsan. Suspendisse pretium augue et faucibus euismod. Quisque risus metus, ultricies nec tortor at, efficitur convallis nunc.</p>]"
      ]
     },
     "execution_count": 113,
     "metadata": {},
     "output_type": "execute_result"
    }
   ],
   "source": [
    "soup.find_all('p')"
   ]
  },
  {
   "cell_type": "code",
   "execution_count": 114,
   "id": "f259df31",
   "metadata": {},
   "outputs": [
    {
     "data": {
      "text/plain": [
       "<p>Lorem ipsum dolor sit amet, consectetur adipiscing elit. Donec posuere elit at malesuada tempor. Donec eget ligula in ante auctor luctus. Phasellus iaculis porttitor gravida. Donec eget sem lorem. Morbi a libero imperdiet, viverra tellus ac, consequat tortor. Suspendisse nibh massa, accumsan non neque a, vestibulum commodo dui.</p>"
      ]
     },
     "execution_count": 114,
     "metadata": {},
     "output_type": "execute_result"
    }
   ],
   "source": [
    "soup.find('p')"
   ]
  },
  {
   "cell_type": "code",
   "execution_count": 117,
   "id": "8eed1688",
   "metadata": {},
   "outputs": [
    {
     "data": {
      "text/plain": [
       "<table bgcolor=\"#ff00ff\" border=\"3\" class=\"tabela blog\">\n",
       "<tr><th>Naglowek 1</th><th>Naglowek 2</th></tr>\n",
       "<tr><td>komorka 11</td><td>komorka 12</td></tr>\n",
       "<tr><td>komorka 21</td><td>komorka 22</td></tr>\n",
       "</table>"
      ]
     },
     "execution_count": 117,
     "metadata": {},
     "output_type": "execute_result"
    }
   ],
   "source": [
    "soup.find(border='3')"
   ]
  },
  {
   "cell_type": "code",
   "execution_count": 123,
   "id": "89e49118",
   "metadata": {},
   "outputs": [
    {
     "data": {
      "text/plain": [
       "<table bgcolor=\"#ff00ff\" border=\"3\" class=\"tabela blog\">\n",
       "<tr><th>Naglowek 1</th><th>Naglowek 2</th></tr>\n",
       "<tr><td>komorka 11</td><td>komorka 12</td></tr>\n",
       "<tr><td>komorka 21</td><td>komorka 22</td></tr>\n",
       "</table>"
      ]
     },
     "execution_count": 123,
     "metadata": {},
     "output_type": "execute_result"
    }
   ],
   "source": [
    "soup.find(class_=\"tabela\")"
   ]
  },
  {
   "cell_type": "code",
   "execution_count": 128,
   "id": "bd904ba9",
   "metadata": {},
   "outputs": [
    {
     "data": {
      "text/plain": [
       "<a href=\"http://google.pl\">Arcyciekawa strona</a>"
      ]
     },
     "execution_count": 128,
     "metadata": {},
     "output_type": "execute_result"
    }
   ],
   "source": [
    "soup.find(href=True)"
   ]
  },
  {
   "cell_type": "code",
   "execution_count": 130,
   "id": "bab31c47",
   "metadata": {},
   "outputs": [
    {
     "data": {
      "text/plain": [
       "<th>Naglowek 1</th>"
      ]
     },
     "execution_count": 130,
     "metadata": {},
     "output_type": "execute_result"
    }
   ],
   "source": [
    "soup.tr.next_element"
   ]
  },
  {
   "cell_type": "code",
   "execution_count": 137,
   "id": "bb88e028",
   "metadata": {},
   "outputs": [
    {
     "data": {
      "text/plain": [
       "<th>Naglowek 1</th>"
      ]
     },
     "execution_count": 137,
     "metadata": {},
     "output_type": "execute_result"
    }
   ],
   "source": [
    "soup.tr.next_element"
   ]
  },
  {
   "cell_type": "code",
   "execution_count": 140,
   "id": "e97da9f6",
   "metadata": {},
   "outputs": [
    {
     "data": {
      "text/plain": [
       "'\\n'"
      ]
     },
     "execution_count": 140,
     "metadata": {},
     "output_type": "execute_result"
    }
   ],
   "source": [
    "soup.tr.next_sibling"
   ]
  },
  {
   "cell_type": "code",
   "execution_count": 146,
   "id": "704e7b84",
   "metadata": {},
   "outputs": [
    {
     "data": {
      "text/plain": [
       "<tr><td>komorka 11</td><td>komorka 12</td></tr>"
      ]
     },
     "execution_count": 146,
     "metadata": {},
     "output_type": "execute_result"
    }
   ],
   "source": [
    "soup.tr.next_sibling.next_sibling"
   ]
  },
  {
   "cell_type": "code",
   "execution_count": null,
   "id": "8cdf219f",
   "metadata": {},
   "outputs": [],
   "source": []
  }
 ],
 "metadata": {
  "kernelspec": {
   "display_name": "Python 3",
   "language": "python",
   "name": "python3"
  },
  "language_info": {
   "codemirror_mode": {
    "name": "ipython",
    "version": 3
   },
   "file_extension": ".py",
   "mimetype": "text/x-python",
   "name": "python",
   "nbconvert_exporter": "python",
   "pygments_lexer": "ipython3",
   "version": "3.8.8"
  }
 },
 "nbformat": 4,
 "nbformat_minor": 5
}
